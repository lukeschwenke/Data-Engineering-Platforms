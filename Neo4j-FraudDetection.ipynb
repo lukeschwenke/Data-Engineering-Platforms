{
 "cells": [
  {
   "cell_type": "markdown",
   "metadata": {},
   "source": [
    "# Neo4J Fraud Detection\n",
    "\n",
    "`pip install neo4j`\n",
    "\n",
    "`pip install neo4j-driver`\n",
    "\n",
    "References: https://neo4j.com/developer/"
   ]
  },
  {
   "cell_type": "code",
   "execution_count": 2,
   "metadata": {},
   "outputs": [],
   "source": [
    "from neo4j import GraphDatabase, basic_auth"
   ]
  },
  {
   "cell_type": "code",
   "execution_count": 3,
   "metadata": {},
   "outputs": [],
   "source": [
    "driver = GraphDatabase.driver(\"bolt://localhost:7687\", auth=basic_auth(\"neo4j\", \"neo4j!\"))\n",
    "session = driver.session()"
   ]
  },
  {
   "cell_type": "code",
   "execution_count": 4,
   "metadata": {},
   "outputs": [
    {
     "data": {
      "text/plain": [
       "<neo4j.work.result.Result at 0x1b5592842b0>"
      ]
     },
     "execution_count": 4,
     "metadata": {},
     "output_type": "execute_result"
    }
   ],
   "source": [
    "# Insert data\n",
    "insert_query = '''\n",
    "CREATE (hank:Person {name:\"Hank\"}),\n",
    "(abby:Person {name:\"Abby\"}),\n",
    "(max:Person {name:\"Max\"}),\n",
    "(sophie:Person {name: \"Sophie\"}),\n",
    "(jane:Person {name: \"Jane\"}),\n",
    "(bill:Person {name: \"Bill\"}),\n",
    "(ssn993632634:SSN {number: 993632634}),\n",
    "(ssn123456789:SSN {number: 123456789}),\n",
    "(ssn523252364:SSN {number: 523252364}),\n",
    "(chase:Account {bank: \"Chase\", number: 1523}),\n",
    "(bofa:Account {bank: \"Bank of America\", number: 4634}),\n",
    "(cayman:Account {bank: \"Cayman\", number: 863}),\n",
    "(bill)-[:HAS_SSN]->(ssn523252364),\n",
    "(bill)-[:HAS_ACCOUNT]->(bofa),\n",
    "(jane)-[:HAS_SSN]->(ssn123456789),\n",
    "(jane)-[:HAS_ACCOUNT]->(chase),\n",
    "(hank)-[:HAS_ACCOUNT]->(cayman),\n",
    "(abby)-[:HAS_ACCOUNT]->(cayman),\n",
    "(abby)-[:HAS_SSN]->(ssn993632634),\n",
    "(sophie)-[:HAS_SSN]->(ssn993632634),\n",
    "(max)-[:HAS_SSN]->(ssn993632634)\n",
    "'''\n",
    "\n",
    "session.run(insert_query)"
   ]
  },
  {
   "cell_type": "markdown",
   "metadata": {},
   "source": [
    "### Transitive Closure\n",
    "\n",
    "Given a directed graph, find out if a vertex j is reachable from another vertex i for all vertex pairs (i, j) in the given graph"
   ]
  },
  {
   "cell_type": "code",
   "execution_count": 5,
   "metadata": {},
   "outputs": [
    {
     "name": "stdout",
     "output_type": "stream",
     "text": [
      "<Node id=18 labels=frozenset({'Account'}) properties={'number': 863, 'bank': 'Cayman'}>\n",
      "<Node id=8 labels=frozenset({'Person'}) properties={'name': 'Abby'}>\n",
      "<Node id=13 labels=frozenset({'SSN'}) properties={'number': 993632634}>\n",
      "<Node id=9 labels=frozenset({'Person'}) properties={'name': 'Max'}>\n",
      "<Node id=10 labels=frozenset({'Person'}) properties={'name': 'Sophie'}>\n"
     ]
    }
   ],
   "source": [
    "\n",
    "transitive_query = '''\n",
    "MATCH (n:Person)-[*]-(o)\n",
    "WHERE n.name = $name\n",
    "RETURN DISTINCT o AS other\n",
    "'''\n",
    "\n",
    "results = session.run(transitive_query, parameters={\"name\": \"Hank\"})\n",
    "for record in results:\n",
    "    print(record[\"other\"])\n"
   ]
  },
  {
   "cell_type": "code",
   "execution_count": 6,
   "metadata": {},
   "outputs": [
    {
     "name": "stdout",
     "output_type": "stream",
     "text": [
      "<Node id=0 labels=frozenset({'Person'}) properties={'name': 'Jim'}>\n",
      "<Node id=1 labels=frozenset({'Person'}) properties={'name': 'Anna'}>\n",
      "<Node id=2 labels=frozenset({'Person'}) properties={'name': 'Sally'}>\n",
      "<Node id=3 labels=frozenset({'Person'}) properties={'name': 'Joe'}>\n",
      "<Node id=4 labels=frozenset({'Person'}) properties={'name': 'Bob'}>\n",
      "<Node id=5 labels=frozenset({'Person'}) properties={'name': 'Mike'}>\n",
      "<Node id=6 labels=frozenset({'Person'}) properties={'name': 'Billy'}>\n",
      "<Node id=7 labels=frozenset({'Person'}) properties={'name': 'Hank'}>\n",
      "<Node id=8 labels=frozenset({'Person'}) properties={'name': 'Abby'}>\n",
      "<Node id=9 labels=frozenset({'Person'}) properties={'name': 'Max'}>\n",
      "<Node id=10 labels=frozenset({'Person'}) properties={'name': 'Sophie'}>\n"
     ]
    }
   ],
   "source": [
    "# Investigation Targeting\n",
    "targeting_query = \"\"\"\n",
    "MATCH (n:Person)-[*]-(o)\n",
    "WITH n, count(DISTINCT o) AS size\n",
    "WHERE size > 2\n",
    "RETURN n\n",
    "\"\"\"\n",
    "\n",
    "results = session.run(targeting_query)\n",
    "for record in results:\n",
    "    print(record[\"n\"])"
   ]
  },
  {
   "cell_type": "code",
   "execution_count": 19,
   "metadata": {},
   "outputs": [
    {
     "name": "stdout",
     "output_type": "stream",
     "text": [
      "<Node id=42 labels=frozenset({'Account'}) properties={'number': 863, 'bank': 'Cayman'}>\n"
     ]
    }
   ],
   "source": [
    "# Fast Insights\n",
    "insights_query = \"\"\"\n",
    "MATCH (ssn:SSN)<-[:HAS_SSN]-(:Person)-[:HAS_ACCOUNT]->(acct:Account)\n",
    "WHERE ssn.number = $flagged_ssn\n",
    "RETURN acct\n",
    "\"\"\"\n",
    "\n",
    "results = session.run(insights_query, parameters={\"flagged_ssn\": 993632634})\n",
    "for record in results:\n",
    "    print(record[\"acct\"])\n",
    "\n",
    "\n",
    "session.close()"
   ]
  },
  {
   "cell_type": "code",
   "execution_count": null,
   "metadata": {},
   "outputs": [],
   "source": []
  }
 ],
 "metadata": {
  "kernelspec": {
   "display_name": "Python 3",
   "language": "python",
   "name": "python3"
  },
  "language_info": {
   "codemirror_mode": {
    "name": "ipython",
    "version": 3
   },
   "file_extension": ".py",
   "mimetype": "text/x-python",
   "name": "python",
   "nbconvert_exporter": "python",
   "pygments_lexer": "ipython3",
   "version": "3.8.5"
  }
 },
 "nbformat": 4,
 "nbformat_minor": 2
}
