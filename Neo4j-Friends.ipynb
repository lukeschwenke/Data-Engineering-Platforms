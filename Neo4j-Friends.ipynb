{
 "cells": [
  {
   "cell_type": "markdown",
   "metadata": {},
   "source": [
    "# Neo4J Friends Graph\n",
    "\n",
    "\n",
    "Dependecies:\n",
    "\n",
    "`pip install neo4j`\n",
    "\n",
    "`pip install neo4j-driver`\n",
    "\n",
    "`pip install neobolt`\n",
    "\n",
    "`pip install neo4jupyter` \n",
    "\n",
    "`pip install py2neo` \n",
    "\n",
    "References: https://neo4j.com/developer/"
   ]
  },
  {
   "cell_type": "code",
   "execution_count": 2,
   "metadata": {},
   "outputs": [
    {
     "name": "stdout",
     "output_type": "stream",
     "text": [
      "Collecting neo4j\n",
      "  Downloading neo4j-5.2.1.tar.gz (174 kB)\n",
      "\u001b[K     |████████████████████████████████| 174 kB 3.2 MB/s eta 0:00:01\n",
      "\u001b[?25hRequirement already satisfied: pytz in /Users/lmschwenke/opt/anaconda3/lib/python3.9/site-packages (from neo4j) (2021.3)\n",
      "Building wheels for collected packages: neo4j\n",
      "  Building wheel for neo4j (setup.py) ... \u001b[?25ldone\n",
      "\u001b[?25h  Created wheel for neo4j: filename=neo4j-5.2.1-py3-none-any.whl size=249276 sha256=f34ef1555b3a70f61c16b9122f78c39697c50585f61c1df8a5a087ca42b07de5\n",
      "  Stored in directory: /Users/lmschwenke/Library/Caches/pip/wheels/10/2e/22/b2aa68e1d39d749de7c3d8592ae34561f16b851499ad1b5256\n",
      "Successfully built neo4j\n",
      "Installing collected packages: neo4j\n",
      "Successfully installed neo4j-5.2.1\n",
      "Collecting neo4j-driver\n",
      "  Downloading neo4j-driver-5.2.1.tar.gz (174 kB)\n",
      "\u001b[K     |████████████████████████████████| 174 kB 4.8 MB/s eta 0:00:01\n",
      "\u001b[?25hRequirement already satisfied: pytz in /Users/lmschwenke/opt/anaconda3/lib/python3.9/site-packages (from neo4j-driver) (2021.3)\n",
      "Building wheels for collected packages: neo4j-driver\n",
      "  Building wheel for neo4j-driver (setup.py) ... \u001b[?25ldone\n",
      "\u001b[?25h  Created wheel for neo4j-driver: filename=neo4j_driver-5.2.1-py3-none-any.whl size=249371 sha256=4a2dbd7d66f17f00f36aafe0d8c771f44bd1eb48aab0cb7fcdc798de8fc1134c\n",
      "  Stored in directory: /Users/lmschwenke/Library/Caches/pip/wheels/4b/d4/67/5db735369dd2a803d34bbb4ffa7528d184bfb42ebe470db6c9\n",
      "Successfully built neo4j-driver\n",
      "Installing collected packages: neo4j-driver\n",
      "Successfully installed neo4j-driver-5.2.1\n",
      "Collecting neobolt\n",
      "  Downloading neobolt-1.7.17.tar.gz (183 kB)\n",
      "\u001b[K     |████████████████████████████████| 183 kB 4.7 MB/s eta 0:00:01\n",
      "\u001b[?25hBuilding wheels for collected packages: neobolt\n",
      "  Building wheel for neobolt (setup.py) ... \u001b[?25ldone\n",
      "\u001b[?25h  Created wheel for neobolt: filename=neobolt-1.7.17-py3-none-any.whl size=37180 sha256=9bd3ca9cf05babed5fa14f8953f9f3f60b443b44431810ba10a06f7f76622c66\n",
      "  Stored in directory: /Users/lmschwenke/Library/Caches/pip/wheels/f0/8a/06/f07543e9b7f803eeefd397e94d7f0aa2dc1e81068ac793de38\n",
      "Successfully built neobolt\n",
      "Installing collected packages: neobolt\n",
      "Successfully installed neobolt-1.7.17\n",
      "Collecting neo4jupyter\n",
      "  Downloading neo4jupyter-0.2.0.tar.gz (3.8 kB)\n",
      "Requirement already satisfied: IPython>=4.0.0 in /Users/lmschwenke/opt/anaconda3/lib/python3.9/site-packages (from neo4jupyter) (8.2.0)\n",
      "Collecting ipython-cypher>=0.2.4\n",
      "  Downloading ipython-cypher-0.2.6.tar.gz (13 kB)\n",
      "Collecting py2neo\n",
      "  Downloading py2neo-2021.2.3-py2.py3-none-any.whl (177 kB)\n",
      "\u001b[K     |████████████████████████████████| 177 kB 2.2 MB/s eta 0:00:01\n",
      "\u001b[?25hRequirement already satisfied: backcall in /Users/lmschwenke/opt/anaconda3/lib/python3.9/site-packages (from IPython>=4.0.0->neo4jupyter) (0.2.0)\n",
      "Requirement already satisfied: jedi>=0.16 in /Users/lmschwenke/opt/anaconda3/lib/python3.9/site-packages (from IPython>=4.0.0->neo4jupyter) (0.18.1)\n",
      "Requirement already satisfied: stack-data in /Users/lmschwenke/opt/anaconda3/lib/python3.9/site-packages (from IPython>=4.0.0->neo4jupyter) (0.2.0)\n",
      "Requirement already satisfied: decorator in /Users/lmschwenke/opt/anaconda3/lib/python3.9/site-packages (from IPython>=4.0.0->neo4jupyter) (5.1.1)\n",
      "Requirement already satisfied: matplotlib-inline in /Users/lmschwenke/opt/anaconda3/lib/python3.9/site-packages (from IPython>=4.0.0->neo4jupyter) (0.1.2)\n",
      "Requirement already satisfied: setuptools>=18.5 in /Users/lmschwenke/opt/anaconda3/lib/python3.9/site-packages (from IPython>=4.0.0->neo4jupyter) (61.2.0)\n",
      "Requirement already satisfied: pickleshare in /Users/lmschwenke/opt/anaconda3/lib/python3.9/site-packages (from IPython>=4.0.0->neo4jupyter) (0.7.5)\n",
      "Requirement already satisfied: pygments>=2.4.0 in /Users/lmschwenke/opt/anaconda3/lib/python3.9/site-packages (from IPython>=4.0.0->neo4jupyter) (2.11.2)\n",
      "Requirement already satisfied: pexpect>4.3 in /Users/lmschwenke/opt/anaconda3/lib/python3.9/site-packages (from IPython>=4.0.0->neo4jupyter) (4.8.0)\n",
      "Requirement already satisfied: traitlets>=5 in /Users/lmschwenke/opt/anaconda3/lib/python3.9/site-packages (from IPython>=4.0.0->neo4jupyter) (5.1.1)\n",
      "Requirement already satisfied: appnope in /Users/lmschwenke/opt/anaconda3/lib/python3.9/site-packages (from IPython>=4.0.0->neo4jupyter) (0.1.2)\n",
      "Requirement already satisfied: prompt-toolkit!=3.0.0,!=3.0.1,<3.1.0,>=2.0.0 in /Users/lmschwenke/opt/anaconda3/lib/python3.9/site-packages (from IPython>=4.0.0->neo4jupyter) (3.0.20)\n",
      "Collecting neo4jrestclient>=2.1.0\n",
      "  Downloading neo4jrestclient-2.1.1.tar.gz (73 kB)\n",
      "\u001b[K     |████████████████████████████████| 73 kB 8.8 MB/s  eta 0:00:01\n",
      "\u001b[?25hCollecting prettytable\n",
      "  Downloading prettytable-3.5.0-py3-none-any.whl (26 kB)\n",
      "Requirement already satisfied: parso<0.9.0,>=0.8.0 in /Users/lmschwenke/opt/anaconda3/lib/python3.9/site-packages (from jedi>=0.16->IPython>=4.0.0->neo4jupyter) (0.8.3)\n",
      "Requirement already satisfied: requests>=2.1.0 in /Users/lmschwenke/opt/anaconda3/lib/python3.9/site-packages (from neo4jrestclient>=2.1.0->ipython-cypher>=0.2.4->neo4jupyter) (2.27.1)\n",
      "Requirement already satisfied: ptyprocess>=0.5 in /Users/lmschwenke/opt/anaconda3/lib/python3.9/site-packages (from pexpect>4.3->IPython>=4.0.0->neo4jupyter) (0.7.0)\n",
      "Requirement already satisfied: wcwidth in /Users/lmschwenke/opt/anaconda3/lib/python3.9/site-packages (from prompt-toolkit!=3.0.0,!=3.0.1,<3.1.0,>=2.0.0->IPython>=4.0.0->neo4jupyter) (0.2.5)\n",
      "Requirement already satisfied: certifi>=2017.4.17 in /Users/lmschwenke/opt/anaconda3/lib/python3.9/site-packages (from requests>=2.1.0->neo4jrestclient>=2.1.0->ipython-cypher>=0.2.4->neo4jupyter) (2021.10.8)\n",
      "Requirement already satisfied: urllib3<1.27,>=1.21.1 in /Users/lmschwenke/opt/anaconda3/lib/python3.9/site-packages (from requests>=2.1.0->neo4jrestclient>=2.1.0->ipython-cypher>=0.2.4->neo4jupyter) (1.26.9)\n",
      "Requirement already satisfied: idna<4,>=2.5 in /Users/lmschwenke/opt/anaconda3/lib/python3.9/site-packages (from requests>=2.1.0->neo4jrestclient>=2.1.0->ipython-cypher>=0.2.4->neo4jupyter) (3.3)\n",
      "Requirement already satisfied: charset-normalizer~=2.0.0 in /Users/lmschwenke/opt/anaconda3/lib/python3.9/site-packages (from requests>=2.1.0->neo4jrestclient>=2.1.0->ipython-cypher>=0.2.4->neo4jupyter) (2.0.4)\n",
      "Requirement already satisfied: packaging in /Users/lmschwenke/opt/anaconda3/lib/python3.9/site-packages (from py2neo->neo4jupyter) (21.3)\n",
      "Collecting monotonic\n",
      "  Downloading monotonic-1.6-py2.py3-none-any.whl (8.2 kB)\n",
      "Requirement already satisfied: six>=1.15.0 in /Users/lmschwenke/opt/anaconda3/lib/python3.9/site-packages (from py2neo->neo4jupyter) (1.16.0)\n",
      "Collecting pansi>=2020.7.3\n",
      "  Downloading pansi-2020.7.3-py2.py3-none-any.whl (10 kB)\n",
      "Collecting interchange~=2021.0.4\n",
      "  Downloading interchange-2021.0.4-py2.py3-none-any.whl (28 kB)\n",
      "Requirement already satisfied: pytz in /Users/lmschwenke/opt/anaconda3/lib/python3.9/site-packages (from interchange~=2021.0.4->py2neo->neo4jupyter) (2021.3)\n",
      "Requirement already satisfied: pyparsing!=3.0.5,>=2.0.2 in /Users/lmschwenke/opt/anaconda3/lib/python3.9/site-packages (from packaging->py2neo->neo4jupyter) (3.0.4)\n",
      "Requirement already satisfied: executing in /Users/lmschwenke/opt/anaconda3/lib/python3.9/site-packages (from stack-data->IPython>=4.0.0->neo4jupyter) (0.8.3)\n",
      "Requirement already satisfied: pure-eval in /Users/lmschwenke/opt/anaconda3/lib/python3.9/site-packages (from stack-data->IPython>=4.0.0->neo4jupyter) (0.2.2)\n",
      "Requirement already satisfied: asttokens in /Users/lmschwenke/opt/anaconda3/lib/python3.9/site-packages (from stack-data->IPython>=4.0.0->neo4jupyter) (2.0.5)\n",
      "Building wheels for collected packages: neo4jupyter, ipython-cypher, neo4jrestclient\n",
      "  Building wheel for neo4jupyter (setup.py) ... \u001b[?25ldone\n",
      "\u001b[?25h  Created wheel for neo4jupyter: filename=neo4jupyter-0.2.0-py3-none-any.whl size=3869 sha256=24230589341200ca09511f4fc6c53935698facadee73c69e19fe1820b701d000\n",
      "  Stored in directory: /Users/lmschwenke/Library/Caches/pip/wheels/7b/7a/ef/bf9032ac5c2f02dd7a6db033ce5823d00acb06e5e522078e78\n",
      "  Building wheel for ipython-cypher (setup.py) ... \u001b[?25ldone\n",
      "\u001b[?25h  Created wheel for ipython-cypher: filename=ipython_cypher-0.2.6-py3-none-any.whl size=13272 sha256=a8649a756f9f839a864623ca68dd69eeccd80d6469497d67614af6176d12736f\n",
      "  Stored in directory: /Users/lmschwenke/Library/Caches/pip/wheels/f8/b3/d9/a9cdc38cb14c5018e19ea936f2886ac2cc32f3e3fbebf52878\n"
     ]
    },
    {
     "name": "stdout",
     "output_type": "stream",
     "text": [
      "  Building wheel for neo4jrestclient (setup.py) ... \u001b[?25ldone\n",
      "\u001b[?25h  Created wheel for neo4jrestclient: filename=neo4jrestclient-2.1.1-py2.py3-none-any.whl size=78563 sha256=8f8bde358bcad9cdd8c53be497306ff8a4ba80e984fd3b452b8f99074d288046\n",
      "  Stored in directory: /Users/lmschwenke/Library/Caches/pip/wheels/e7/0c/52/6b804635a6a6a03b3d63810077e454af8ba96604b0d5a83441\n",
      "Successfully built neo4jupyter ipython-cypher neo4jrestclient\n",
      "Installing collected packages: prettytable, pansi, neo4jrestclient, monotonic, interchange, py2neo, ipython-cypher, neo4jupyter\n",
      "Successfully installed interchange-2021.0.4 ipython-cypher-0.2.6 monotonic-1.6 neo4jrestclient-2.1.1 neo4jupyter-0.2.0 pansi-2020.7.3 prettytable-3.5.0 py2neo-2021.2.3\n",
      "Requirement already satisfied: py2neo in /Users/lmschwenke/opt/anaconda3/lib/python3.9/site-packages (2021.2.3)\n",
      "Requirement already satisfied: interchange~=2021.0.4 in /Users/lmschwenke/opt/anaconda3/lib/python3.9/site-packages (from py2neo) (2021.0.4)\n",
      "Requirement already satisfied: packaging in /Users/lmschwenke/opt/anaconda3/lib/python3.9/site-packages (from py2neo) (21.3)\n",
      "Requirement already satisfied: urllib3 in /Users/lmschwenke/opt/anaconda3/lib/python3.9/site-packages (from py2neo) (1.26.9)\n",
      "Requirement already satisfied: six>=1.15.0 in /Users/lmschwenke/opt/anaconda3/lib/python3.9/site-packages (from py2neo) (1.16.0)\n",
      "Requirement already satisfied: pansi>=2020.7.3 in /Users/lmschwenke/opt/anaconda3/lib/python3.9/site-packages (from py2neo) (2020.7.3)\n",
      "Requirement already satisfied: certifi in /Users/lmschwenke/opt/anaconda3/lib/python3.9/site-packages (from py2neo) (2021.10.8)\n",
      "Requirement already satisfied: pygments>=2.0.0 in /Users/lmschwenke/opt/anaconda3/lib/python3.9/site-packages (from py2neo) (2.11.2)\n",
      "Requirement already satisfied: monotonic in /Users/lmschwenke/opt/anaconda3/lib/python3.9/site-packages (from py2neo) (1.6)\n",
      "Requirement already satisfied: pytz in /Users/lmschwenke/opt/anaconda3/lib/python3.9/site-packages (from interchange~=2021.0.4->py2neo) (2021.3)\n",
      "Requirement already satisfied: pyparsing!=3.0.5,>=2.0.2 in /Users/lmschwenke/opt/anaconda3/lib/python3.9/site-packages (from packaging->py2neo) (3.0.4)\n"
     ]
    }
   ],
   "source": [
    "!pip install neo4j\n",
    "\n",
    "!pip install neo4j-driver\n",
    "\n",
    "!pip install neobolt\n",
    "\n",
    "!pip install neo4jupyter \n",
    "\n",
    "!pip install py2neo"
   ]
  },
  {
   "cell_type": "markdown",
   "metadata": {},
   "source": [
    "### Create Neo4J Connection"
   ]
  },
  {
   "cell_type": "code",
   "execution_count": 3,
   "metadata": {},
   "outputs": [],
   "source": [
    "from neo4j import GraphDatabase, basic_auth"
   ]
  },
  {
   "cell_type": "code",
   "execution_count": 9,
   "metadata": {},
   "outputs": [
    {
     "data": {
      "text/plain": [
       "<neo4j._sync.work.session.Session at 0x7fb0b82030a0>"
      ]
     },
     "execution_count": 9,
     "metadata": {},
     "output_type": "execute_result"
    }
   ],
   "source": [
    "url = \"bolt://localhost:7687\"\n",
    "user = \"neo4j\"\n",
    "password = \"neo4j!\"\n",
    "\n",
    "driver = GraphDatabase.driver(url, auth=basic_auth(user, password))\n",
    "session = driver.session()\n",
    "session"
   ]
  },
  {
   "cell_type": "markdown",
   "metadata": {},
   "source": [
    "### Create Friends Graph"
   ]
  },
  {
   "cell_type": "code",
   "execution_count": 5,
   "metadata": {},
   "outputs": [],
   "source": [
    "# Insert data\n",
    "# UNWIND expands a list into a sequence of rows. \n",
    "\n",
    "insert_query = '''\n",
    "UNWIND $pairs as pair\n",
    "MERGE (p1:Person {name:pair[0]})\n",
    "MERGE (p2:Person {name:pair[1]})\n",
    "MERGE (p1)-[:KNOWS]-(p2);\n",
    "'''"
   ]
  },
  {
   "cell_type": "code",
   "execution_count": 10,
   "metadata": {},
   "outputs": [
    {
     "ename": "ServiceUnavailable",
     "evalue": "Couldn't connect to localhost:7687 (resolved to ()):\nFailed to establish connection to ResolvedIPv6Address(('::1', 7687, 0, 0)) (reason [Errno 61] Connection refused)\nFailed to establish connection to ResolvedIPv4Address(('127.0.0.1', 7687)) (reason [Errno 61] Connection refused)",
     "output_type": "error",
     "traceback": [
      "\u001b[0;31m---------------------------------------------------------------------------\u001b[0m",
      "\u001b[0;31mConnectionRefusedError\u001b[0m                    Traceback (most recent call last)",
      "File \u001b[0;32m~/opt/anaconda3/lib/python3.9/site-packages/neo4j/_async_compat/network/_bolt_socket.py:504\u001b[0m, in \u001b[0;36mBoltSocket._connect\u001b[0;34m(cls, resolved_address, timeout, keep_alive)\u001b[0m\n\u001b[1;32m    503\u001b[0m log\u001b[38;5;241m.\u001b[39mdebug(\u001b[38;5;124m\"\u001b[39m\u001b[38;5;124m[#0000]  C: <OPEN> \u001b[39m\u001b[38;5;132;01m%s\u001b[39;00m\u001b[38;5;124m\"\u001b[39m, resolved_address)\n\u001b[0;32m--> 504\u001b[0m \u001b[43ms\u001b[49m\u001b[38;5;241;43m.\u001b[39;49m\u001b[43mconnect\u001b[49m\u001b[43m(\u001b[49m\u001b[43mresolved_address\u001b[49m\u001b[43m)\u001b[49m\n\u001b[1;32m    505\u001b[0m s\u001b[38;5;241m.\u001b[39msettimeout(t)\n",
      "\u001b[0;31mConnectionRefusedError\u001b[0m: [Errno 61] Connection refused",
      "\nDuring handling of the above exception, another exception occurred:\n",
      "\u001b[0;31mServiceUnavailable\u001b[0m                        Traceback (most recent call last)",
      "File \u001b[0;32m~/opt/anaconda3/lib/python3.9/site-packages/neo4j/_async_compat/network/_bolt_socket.py:646\u001b[0m, in \u001b[0;36mBoltSocket.connect\u001b[0;34m(cls, address, timeout, custom_resolver, ssl_context, keep_alive)\u001b[0m\n\u001b[1;32m    645\u001b[0m \u001b[38;5;28;01mtry\u001b[39;00m:\n\u001b[0;32m--> 646\u001b[0m     s \u001b[38;5;241m=\u001b[39m \u001b[43mBoltSocket\u001b[49m\u001b[38;5;241;43m.\u001b[39;49m\u001b[43m_connect\u001b[49m\u001b[43m(\u001b[49m\u001b[43mresolved_address\u001b[49m\u001b[43m,\u001b[49m\u001b[43m \u001b[49m\u001b[43mtimeout\u001b[49m\u001b[43m,\u001b[49m\u001b[43m \u001b[49m\u001b[43mkeep_alive\u001b[49m\u001b[43m)\u001b[49m\n\u001b[1;32m    647\u001b[0m     s \u001b[38;5;241m=\u001b[39m BoltSocket\u001b[38;5;241m.\u001b[39m_secure(s, resolved_address\u001b[38;5;241m.\u001b[39mhost_name,\n\u001b[1;32m    648\u001b[0m                            ssl_context)\n",
      "File \u001b[0;32m~/opt/anaconda3/lib/python3.9/site-packages/neo4j/_async_compat/network/_bolt_socket.py:521\u001b[0m, in \u001b[0;36mBoltSocket._connect\u001b[0;34m(cls, resolved_address, timeout, keep_alive)\u001b[0m\n\u001b[1;32m    520\u001b[0m \u001b[38;5;28mcls\u001b[39m\u001b[38;5;241m.\u001b[39mclose_socket(s)\n\u001b[0;32m--> 521\u001b[0m \u001b[38;5;28;01mraise\u001b[39;00m ServiceUnavailable(\n\u001b[1;32m    522\u001b[0m     \u001b[38;5;124m\"\u001b[39m\u001b[38;5;124mFailed to establish connection to \u001b[39m\u001b[38;5;132;01m{!r}\u001b[39;00m\u001b[38;5;124m (reason \u001b[39m\u001b[38;5;132;01m{}\u001b[39;00m\u001b[38;5;124m)\u001b[39m\u001b[38;5;124m\"\u001b[39m\u001b[38;5;241m.\u001b[39mformat(\n\u001b[1;32m    523\u001b[0m         resolved_address, error))\n",
      "\u001b[0;31mServiceUnavailable\u001b[0m: Failed to establish connection to ResolvedIPv6Address(('::1', 7687, 0, 0)) (reason [Errno 61] Connection refused)",
      "\nThe above exception was the direct cause of the following exception:\n",
      "\u001b[0;31mServiceUnavailable\u001b[0m                        Traceback (most recent call last)",
      "Input \u001b[0;32mIn [10]\u001b[0m, in \u001b[0;36m<cell line: 5>\u001b[0;34m()\u001b[0m\n\u001b[1;32m      1\u001b[0m data \u001b[38;5;241m=\u001b[39m [[\u001b[38;5;124m\"\u001b[39m\u001b[38;5;124mJim\u001b[39m\u001b[38;5;124m\"\u001b[39m,\u001b[38;5;124m\"\u001b[39m\u001b[38;5;124mMike\u001b[39m\u001b[38;5;124m\"\u001b[39m],[\u001b[38;5;124m\"\u001b[39m\u001b[38;5;124mJim\u001b[39m\u001b[38;5;124m\"\u001b[39m,\u001b[38;5;124m\"\u001b[39m\u001b[38;5;124mBilly\u001b[39m\u001b[38;5;124m\"\u001b[39m],[\u001b[38;5;124m\"\u001b[39m\u001b[38;5;124mAnna\u001b[39m\u001b[38;5;124m\"\u001b[39m,\u001b[38;5;124m\"\u001b[39m\u001b[38;5;124mJim\u001b[39m\u001b[38;5;124m\"\u001b[39m],\n\u001b[1;32m      2\u001b[0m           [\u001b[38;5;124m\"\u001b[39m\u001b[38;5;124mAnna\u001b[39m\u001b[38;5;124m\"\u001b[39m,\u001b[38;5;124m\"\u001b[39m\u001b[38;5;124mMike\u001b[39m\u001b[38;5;124m\"\u001b[39m],[\u001b[38;5;124m\"\u001b[39m\u001b[38;5;124mSally\u001b[39m\u001b[38;5;124m\"\u001b[39m,\u001b[38;5;124m\"\u001b[39m\u001b[38;5;124mAnna\u001b[39m\u001b[38;5;124m\"\u001b[39m],[\u001b[38;5;124m\"\u001b[39m\u001b[38;5;124mJoe\u001b[39m\u001b[38;5;124m\"\u001b[39m,\u001b[38;5;124m\"\u001b[39m\u001b[38;5;124mSally\u001b[39m\u001b[38;5;124m\"\u001b[39m],\n\u001b[1;32m      3\u001b[0m           [\u001b[38;5;124m\"\u001b[39m\u001b[38;5;124mJoe\u001b[39m\u001b[38;5;124m\"\u001b[39m,\u001b[38;5;124m\"\u001b[39m\u001b[38;5;124mBob\u001b[39m\u001b[38;5;124m\"\u001b[39m],[\u001b[38;5;124m\"\u001b[39m\u001b[38;5;124mBob\u001b[39m\u001b[38;5;124m\"\u001b[39m,\u001b[38;5;124m\"\u001b[39m\u001b[38;5;124mSally\u001b[39m\u001b[38;5;124m\"\u001b[39m]]\n\u001b[0;32m----> 5\u001b[0m \u001b[43msession\u001b[49m\u001b[38;5;241;43m.\u001b[39;49m\u001b[43mrun\u001b[49m\u001b[43m(\u001b[49m\u001b[43minsert_query\u001b[49m\u001b[43m,\u001b[49m\u001b[43m \u001b[49m\u001b[43mparameters\u001b[49m\u001b[38;5;241;43m=\u001b[39;49m\u001b[43m{\u001b[49m\u001b[38;5;124;43m\"\u001b[39;49m\u001b[38;5;124;43mpairs\u001b[39;49m\u001b[38;5;124;43m\"\u001b[39;49m\u001b[43m:\u001b[49m\u001b[43m \u001b[49m\u001b[43mdata\u001b[49m\u001b[43m}\u001b[49m\u001b[43m)\u001b[49m\n",
      "File \u001b[0;32m~/opt/anaconda3/lib/python3.9/site-packages/neo4j/_sync/work/session.py:285\u001b[0m, in \u001b[0;36mSession.run\u001b[0;34m(self, query, parameters, **kwargs)\u001b[0m\n\u001b[1;32m    282\u001b[0m     \u001b[38;5;28mself\u001b[39m\u001b[38;5;241m.\u001b[39m_auto_result\u001b[38;5;241m.\u001b[39m_buffer_all()\n\u001b[1;32m    284\u001b[0m \u001b[38;5;28;01mif\u001b[39;00m \u001b[38;5;129;01mnot\u001b[39;00m \u001b[38;5;28mself\u001b[39m\u001b[38;5;241m.\u001b[39m_connection:\n\u001b[0;32m--> 285\u001b[0m     \u001b[38;5;28;43mself\u001b[39;49m\u001b[38;5;241;43m.\u001b[39;49m\u001b[43m_connect\u001b[49m\u001b[43m(\u001b[49m\u001b[38;5;28;43mself\u001b[39;49m\u001b[38;5;241;43m.\u001b[39;49m\u001b[43m_config\u001b[49m\u001b[38;5;241;43m.\u001b[39;49m\u001b[43mdefault_access_mode\u001b[49m\u001b[43m)\u001b[49m\n\u001b[1;32m    286\u001b[0m cx \u001b[38;5;241m=\u001b[39m \u001b[38;5;28mself\u001b[39m\u001b[38;5;241m.\u001b[39m_connection\n\u001b[1;32m    288\u001b[0m \u001b[38;5;28mself\u001b[39m\u001b[38;5;241m.\u001b[39m_auto_result \u001b[38;5;241m=\u001b[39m Result(\n\u001b[1;32m    289\u001b[0m     cx, \u001b[38;5;28mself\u001b[39m\u001b[38;5;241m.\u001b[39m_config\u001b[38;5;241m.\u001b[39mfetch_size, \u001b[38;5;28mself\u001b[39m\u001b[38;5;241m.\u001b[39m_result_closed,\n\u001b[1;32m    290\u001b[0m     \u001b[38;5;28mself\u001b[39m\u001b[38;5;241m.\u001b[39m_result_error\n\u001b[1;32m    291\u001b[0m )\n",
      "File \u001b[0;32m~/opt/anaconda3/lib/python3.9/site-packages/neo4j/_sync/work/session.py:123\u001b[0m, in \u001b[0;36mSession._connect\u001b[0;34m(self, access_mode, **access_kwargs)\u001b[0m\n\u001b[1;32m    121\u001b[0m     access_mode \u001b[38;5;241m=\u001b[39m \u001b[38;5;28mself\u001b[39m\u001b[38;5;241m.\u001b[39m_config\u001b[38;5;241m.\u001b[39mdefault_access_mode\n\u001b[1;32m    122\u001b[0m \u001b[38;5;28;01mtry\u001b[39;00m:\n\u001b[0;32m--> 123\u001b[0m     \u001b[38;5;28;43msuper\u001b[39;49m\u001b[43m(\u001b[49m\u001b[43m)\u001b[49m\u001b[38;5;241;43m.\u001b[39;49m\u001b[43m_connect\u001b[49m\u001b[43m(\u001b[49m\u001b[43maccess_mode\u001b[49m\u001b[43m,\u001b[49m\u001b[43m \u001b[49m\u001b[38;5;241;43m*\u001b[39;49m\u001b[38;5;241;43m*\u001b[39;49m\u001b[43maccess_kwargs\u001b[49m\u001b[43m)\u001b[49m\n\u001b[1;32m    124\u001b[0m \u001b[38;5;28;01mexcept\u001b[39;00m asyncio\u001b[38;5;241m.\u001b[39mCancelledError:\n\u001b[1;32m    125\u001b[0m     \u001b[38;5;28mself\u001b[39m\u001b[38;5;241m.\u001b[39m_handle_cancellation(message\u001b[38;5;241m=\u001b[39m\u001b[38;5;124m\"\u001b[39m\u001b[38;5;124m_connect\u001b[39m\u001b[38;5;124m\"\u001b[39m)\n",
      "File \u001b[0;32m~/opt/anaconda3/lib/python3.9/site-packages/neo4j/_sync/work/workspace.py:198\u001b[0m, in \u001b[0;36mWorkspace._connect\u001b[0;34m(self, access_mode, **acquire_kwargs)\u001b[0m\n\u001b[1;32m    190\u001b[0m acquire_kwargs_ \u001b[38;5;241m=\u001b[39m {\n\u001b[1;32m    191\u001b[0m     \u001b[38;5;124m\"\u001b[39m\u001b[38;5;124maccess_mode\u001b[39m\u001b[38;5;124m\"\u001b[39m: access_mode,\n\u001b[1;32m    192\u001b[0m     \u001b[38;5;124m\"\u001b[39m\u001b[38;5;124mtimeout\u001b[39m\u001b[38;5;124m\"\u001b[39m: acquisition_timeout,\n\u001b[0;32m   (...)\u001b[0m\n\u001b[1;32m    195\u001b[0m     \u001b[38;5;124m\"\u001b[39m\u001b[38;5;124mliveness_check_timeout\u001b[39m\u001b[38;5;124m\"\u001b[39m: \u001b[38;5;28;01mNone\u001b[39;00m,\n\u001b[1;32m    196\u001b[0m }\n\u001b[1;32m    197\u001b[0m acquire_kwargs_\u001b[38;5;241m.\u001b[39mupdate(acquire_kwargs)\n\u001b[0;32m--> 198\u001b[0m \u001b[38;5;28mself\u001b[39m\u001b[38;5;241m.\u001b[39m_connection \u001b[38;5;241m=\u001b[39m \u001b[38;5;28;43mself\u001b[39;49m\u001b[38;5;241;43m.\u001b[39;49m\u001b[43m_pool\u001b[49m\u001b[38;5;241;43m.\u001b[39;49m\u001b[43macquire\u001b[49m\u001b[43m(\u001b[49m\u001b[38;5;241;43m*\u001b[39;49m\u001b[38;5;241;43m*\u001b[39;49m\u001b[43macquire_kwargs_\u001b[49m\u001b[43m)\u001b[49m\n\u001b[1;32m    199\u001b[0m \u001b[38;5;28mself\u001b[39m\u001b[38;5;241m.\u001b[39m_connection_access_mode \u001b[38;5;241m=\u001b[39m access_mode\n",
      "File \u001b[0;32m~/opt/anaconda3/lib/python3.9/site-packages/neo4j/_sync/io/_pool.py:411\u001b[0m, in \u001b[0;36mBoltPool.acquire\u001b[0;34m(self, access_mode, timeout, database, bookmarks, liveness_check_timeout)\u001b[0m\n\u001b[1;32m    408\u001b[0m log\u001b[38;5;241m.\u001b[39mdebug(\u001b[38;5;124m\"\u001b[39m\u001b[38;5;124m[#0000]  _: <POOL> acquire direct connection, \u001b[39m\u001b[38;5;124m\"\u001b[39m\n\u001b[1;32m    409\u001b[0m           \u001b[38;5;124m\"\u001b[39m\u001b[38;5;124maccess_mode=\u001b[39m\u001b[38;5;132;01m%r\u001b[39;00m\u001b[38;5;124m, database=\u001b[39m\u001b[38;5;132;01m%r\u001b[39;00m\u001b[38;5;124m\"\u001b[39m, access_mode, database)\n\u001b[1;32m    410\u001b[0m deadline \u001b[38;5;241m=\u001b[39m Deadline\u001b[38;5;241m.\u001b[39mfrom_timeout_or_deadline(timeout)\n\u001b[0;32m--> 411\u001b[0m \u001b[38;5;28;01mreturn\u001b[39;00m \u001b[38;5;28;43mself\u001b[39;49m\u001b[38;5;241;43m.\u001b[39;49m\u001b[43m_acquire\u001b[49m\u001b[43m(\u001b[49m\n\u001b[1;32m    412\u001b[0m \u001b[43m    \u001b[49m\u001b[38;5;28;43mself\u001b[39;49m\u001b[38;5;241;43m.\u001b[39;49m\u001b[43maddress\u001b[49m\u001b[43m,\u001b[49m\u001b[43m \u001b[49m\u001b[43mdeadline\u001b[49m\u001b[43m,\u001b[49m\u001b[43m \u001b[49m\u001b[43mliveness_check_timeout\u001b[49m\n\u001b[1;32m    413\u001b[0m \u001b[43m\u001b[49m\u001b[43m)\u001b[49m\n",
      "File \u001b[0;32m~/opt/anaconda3/lib/python3.9/site-packages/neo4j/_sync/io/_pool.py:221\u001b[0m, in \u001b[0;36mIOPool._acquire\u001b[0;34m(self, address, deadline, liveness_check_timeout)\u001b[0m\n\u001b[1;32m    216\u001b[0m             \u001b[38;5;28;01mraise\u001b[39;00m ClientError(\n\u001b[1;32m    217\u001b[0m                 \u001b[38;5;124m\"\u001b[39m\u001b[38;5;124mfailed to obtain a connection from the pool within \u001b[39m\u001b[38;5;124m\"\u001b[39m\n\u001b[1;32m    218\u001b[0m                 \u001b[38;5;124m\"\u001b[39m\u001b[38;5;132;01m{!r}\u001b[39;00m\u001b[38;5;124ms (timeout)\u001b[39m\u001b[38;5;124m\"\u001b[39m\u001b[38;5;241m.\u001b[39mformat(deadline\u001b[38;5;241m.\u001b[39moriginal_timeout)\n\u001b[1;32m    219\u001b[0m             )\n\u001b[1;32m    220\u001b[0m log\u001b[38;5;241m.\u001b[39mdebug(\u001b[38;5;124m\"\u001b[39m\u001b[38;5;124m[#0000]  _: <POOL> trying to hand out new connection\u001b[39m\u001b[38;5;124m\"\u001b[39m)\n\u001b[0;32m--> 221\u001b[0m \u001b[38;5;28;01mreturn\u001b[39;00m \u001b[43mconnection_creator\u001b[49m\u001b[43m(\u001b[49m\u001b[43m)\u001b[49m\n",
      "File \u001b[0;32m~/opt/anaconda3/lib/python3.9/site-packages/neo4j/_sync/io/_pool.py:138\u001b[0m, in \u001b[0;36mIOPool._acquire_new_later.<locals>.connection_creator\u001b[0;34m()\u001b[0m\n\u001b[1;32m    136\u001b[0m \u001b[38;5;28;01mtry\u001b[39;00m:\n\u001b[1;32m    137\u001b[0m     \u001b[38;5;28;01mtry\u001b[39;00m:\n\u001b[0;32m--> 138\u001b[0m         connection \u001b[38;5;241m=\u001b[39m \u001b[38;5;28;43mself\u001b[39;49m\u001b[38;5;241;43m.\u001b[39;49m\u001b[43mopener\u001b[49m\u001b[43m(\u001b[49m\n\u001b[1;32m    139\u001b[0m \u001b[43m            \u001b[49m\u001b[43maddress\u001b[49m\u001b[43m,\u001b[49m\u001b[43m \u001b[49m\u001b[43mdeadline\u001b[49m\u001b[38;5;241;43m.\u001b[39;49m\u001b[43mto_timeout\u001b[49m\u001b[43m(\u001b[49m\u001b[43m)\u001b[49m\n\u001b[1;32m    140\u001b[0m \u001b[43m        \u001b[49m\u001b[43m)\u001b[49m\n\u001b[1;32m    141\u001b[0m     \u001b[38;5;28;01mexcept\u001b[39;00m ServiceUnavailable:\n\u001b[1;32m    142\u001b[0m         \u001b[38;5;28mself\u001b[39m\u001b[38;5;241m.\u001b[39mdeactivate(address)\n",
      "File \u001b[0;32m~/opt/anaconda3/lib/python3.9/site-packages/neo4j/_sync/io/_pool.py:386\u001b[0m, in \u001b[0;36mBoltPool.open.<locals>.opener\u001b[0;34m(addr, timeout)\u001b[0m\n\u001b[1;32m    385\u001b[0m \u001b[38;5;28;01mdef\u001b[39;00m \u001b[38;5;21mopener\u001b[39m(addr, timeout):\n\u001b[0;32m--> 386\u001b[0m     \u001b[38;5;28;01mreturn\u001b[39;00m \u001b[43mBolt\u001b[49m\u001b[38;5;241;43m.\u001b[39;49m\u001b[43mopen\u001b[49m\u001b[43m(\u001b[49m\n\u001b[1;32m    387\u001b[0m \u001b[43m        \u001b[49m\u001b[43maddr\u001b[49m\u001b[43m,\u001b[49m\u001b[43m \u001b[49m\u001b[43mauth\u001b[49m\u001b[38;5;241;43m=\u001b[39;49m\u001b[43mauth\u001b[49m\u001b[43m,\u001b[49m\u001b[43m \u001b[49m\u001b[43mtimeout\u001b[49m\u001b[38;5;241;43m=\u001b[39;49m\u001b[43mtimeout\u001b[49m\u001b[43m,\u001b[49m\u001b[43m \u001b[49m\u001b[43mrouting_context\u001b[49m\u001b[38;5;241;43m=\u001b[39;49m\u001b[38;5;28;43;01mNone\u001b[39;49;00m\u001b[43m,\u001b[49m\n\u001b[1;32m    388\u001b[0m \u001b[43m        \u001b[49m\u001b[43mpool_config\u001b[49m\u001b[38;5;241;43m=\u001b[39;49m\u001b[43mpool_config\u001b[49m\n\u001b[1;32m    389\u001b[0m \u001b[43m    \u001b[49m\u001b[43m)\u001b[49m\n",
      "File \u001b[0;32m~/opt/anaconda3/lib/python3.9/site-packages/neo4j/_sync/io/_bolt.py:323\u001b[0m, in \u001b[0;36mBolt.open\u001b[0;34m(cls, address, auth, timeout, routing_context, pool_config)\u001b[0m\n\u001b[1;32m    319\u001b[0m \u001b[38;5;28;01melif\u001b[39;00m timeout \u001b[38;5;129;01mis\u001b[39;00m \u001b[38;5;129;01mnot\u001b[39;00m \u001b[38;5;28;01mNone\u001b[39;00m:\n\u001b[1;32m    320\u001b[0m     socket_connection_timeout \u001b[38;5;241m=\u001b[39m \u001b[38;5;28mmin\u001b[39m(pool_config\u001b[38;5;241m.\u001b[39mconnection_timeout,\n\u001b[1;32m    321\u001b[0m                                     time_remaining())\n\u001b[1;32m    322\u001b[0m s, pool_config\u001b[38;5;241m.\u001b[39mprotocol_version, handshake, data \u001b[38;5;241m=\u001b[39m \\\n\u001b[0;32m--> 323\u001b[0m     \u001b[43mBoltSocket\u001b[49m\u001b[38;5;241;43m.\u001b[39;49m\u001b[43mconnect\u001b[49m\u001b[43m(\u001b[49m\n\u001b[1;32m    324\u001b[0m \u001b[43m        \u001b[49m\u001b[43maddress\u001b[49m\u001b[43m,\u001b[49m\n\u001b[1;32m    325\u001b[0m \u001b[43m        \u001b[49m\u001b[43mtimeout\u001b[49m\u001b[38;5;241;43m=\u001b[39;49m\u001b[43msocket_connection_timeout\u001b[49m\u001b[43m,\u001b[49m\n\u001b[1;32m    326\u001b[0m \u001b[43m        \u001b[49m\u001b[43mcustom_resolver\u001b[49m\u001b[38;5;241;43m=\u001b[39;49m\u001b[43mpool_config\u001b[49m\u001b[38;5;241;43m.\u001b[39;49m\u001b[43mresolver\u001b[49m\u001b[43m,\u001b[49m\n\u001b[1;32m    327\u001b[0m \u001b[43m        \u001b[49m\u001b[43mssl_context\u001b[49m\u001b[38;5;241;43m=\u001b[39;49m\u001b[43mpool_config\u001b[49m\u001b[38;5;241;43m.\u001b[39;49m\u001b[43mget_ssl_context\u001b[49m\u001b[43m(\u001b[49m\u001b[43m)\u001b[49m\u001b[43m,\u001b[49m\n\u001b[1;32m    328\u001b[0m \u001b[43m        \u001b[49m\u001b[43mkeep_alive\u001b[49m\u001b[38;5;241;43m=\u001b[39;49m\u001b[43mpool_config\u001b[49m\u001b[38;5;241;43m.\u001b[39;49m\u001b[43mkeep_alive\u001b[49m\u001b[43m,\u001b[49m\n\u001b[1;32m    329\u001b[0m \u001b[43m    \u001b[49m\u001b[43m)\u001b[49m\n\u001b[1;32m    331\u001b[0m \u001b[38;5;66;03m# Carry out Bolt subclass imports locally to avoid circular dependency\u001b[39;00m\n\u001b[1;32m    332\u001b[0m \u001b[38;5;66;03m# issues.\u001b[39;00m\n\u001b[1;32m    333\u001b[0m \u001b[38;5;28;01mif\u001b[39;00m pool_config\u001b[38;5;241m.\u001b[39mprotocol_version \u001b[38;5;241m==\u001b[39m (\u001b[38;5;241m3\u001b[39m, \u001b[38;5;241m0\u001b[39m):\n",
      "File \u001b[0;32m~/opt/anaconda3/lib/python3.9/site-packages/neo4j/_async_compat/network/_bolt_socket.py:673\u001b[0m, in \u001b[0;36mBoltSocket.connect\u001b[0;34m(cls, address, timeout, custom_resolver, ssl_context, keep_alive)\u001b[0m\n\u001b[1;32m    668\u001b[0m     \u001b[38;5;28;01mraise\u001b[39;00m ServiceUnavailable(\n\u001b[1;32m    669\u001b[0m         \u001b[38;5;124m\"\u001b[39m\u001b[38;5;124mCouldn\u001b[39m\u001b[38;5;124m'\u001b[39m\u001b[38;5;124mt connect to \u001b[39m\u001b[38;5;132;01m%s\u001b[39;00m\u001b[38;5;124m (resolved to \u001b[39m\u001b[38;5;132;01m%s\u001b[39;00m\u001b[38;5;124m)\u001b[39m\u001b[38;5;124m\"\u001b[39m \u001b[38;5;241m%\u001b[39m (\n\u001b[1;32m    670\u001b[0m             \u001b[38;5;28mstr\u001b[39m(address), \u001b[38;5;28mtuple\u001b[39m(\u001b[38;5;28mmap\u001b[39m(\u001b[38;5;28mstr\u001b[39m, resolved_addresses)))\n\u001b[1;32m    671\u001b[0m     )\n\u001b[1;32m    672\u001b[0m \u001b[38;5;28;01melse\u001b[39;00m:\n\u001b[0;32m--> 673\u001b[0m     \u001b[38;5;28;01mraise\u001b[39;00m ServiceUnavailable(\n\u001b[1;32m    674\u001b[0m         \u001b[38;5;124m\"\u001b[39m\u001b[38;5;124mCouldn\u001b[39m\u001b[38;5;124m'\u001b[39m\u001b[38;5;124mt connect to \u001b[39m\u001b[38;5;132;01m%s\u001b[39;00m\u001b[38;5;124m (resolved to \u001b[39m\u001b[38;5;132;01m%s\u001b[39;00m\u001b[38;5;124m):\u001b[39m\u001b[38;5;130;01m\\n\u001b[39;00m\u001b[38;5;132;01m%s\u001b[39;00m\u001b[38;5;124m\"\u001b[39m \u001b[38;5;241m%\u001b[39m (\n\u001b[1;32m    675\u001b[0m             \u001b[38;5;28mstr\u001b[39m(address), \u001b[38;5;28mtuple\u001b[39m(\u001b[38;5;28mmap\u001b[39m(\u001b[38;5;28mstr\u001b[39m, resolved_addresses)),\n\u001b[1;32m    676\u001b[0m             \u001b[38;5;124m\"\u001b[39m\u001b[38;5;130;01m\\n\u001b[39;00m\u001b[38;5;124m\"\u001b[39m\u001b[38;5;241m.\u001b[39mjoin(\u001b[38;5;28mmap\u001b[39m(\u001b[38;5;28mstr\u001b[39m, errors))\n\u001b[1;32m    677\u001b[0m         )\n\u001b[1;32m    678\u001b[0m     ) \u001b[38;5;28;01mfrom\u001b[39;00m \u001b[38;5;21;01merrors\u001b[39;00m[\u001b[38;5;241m0\u001b[39m]\n",
      "\u001b[0;31mServiceUnavailable\u001b[0m: Couldn't connect to localhost:7687 (resolved to ()):\nFailed to establish connection to ResolvedIPv6Address(('::1', 7687, 0, 0)) (reason [Errno 61] Connection refused)\nFailed to establish connection to ResolvedIPv4Address(('127.0.0.1', 7687)) (reason [Errno 61] Connection refused)"
     ]
    }
   ],
   "source": [
    "data = [[\"Jim\",\"Mike\"],[\"Jim\",\"Billy\"],[\"Anna\",\"Jim\"],\n",
    "          [\"Anna\",\"Mike\"],[\"Sally\",\"Anna\"],[\"Joe\",\"Sally\"],\n",
    "          [\"Joe\",\"Bob\"],[\"Bob\",\"Sally\"]]\n",
    "\n",
    "session.run(insert_query, parameters={\"pairs\": data})"
   ]
  },
  {
   "cell_type": "markdown",
   "metadata": {},
   "source": [
    "### Visualize Graph"
   ]
  },
  {
   "cell_type": "code",
   "execution_count": 5,
   "metadata": {},
   "outputs": [
    {
     "data": {
      "application/javascript": [
       "var link = document.createElement(\"link\");\n",
       "\tlink.ref = \"stylesheet\";\n",
       "\tlink.type = \"text/css\";\n",
       "\tlink.href = \"https://cdnjs.cloudflare.com/ajax/libs/vis/4.8.2/vis.css\";\n",
       "\tdocument.head.appendChild(link);\n",
       "require.config({     paths: {         vis: '//cdnjs.cloudflare.com/ajax/libs/vis/4.8.2/vis.min'     } }); require(['vis'], function(vis) {  window.vis = vis; }); "
      ],
      "text/plain": [
       "<IPython.core.display.Javascript object>"
      ]
     },
     "metadata": {},
     "output_type": "display_data"
    },
    {
     "data": {
      "text/html": [
       "<div id=\"27486aa8-37f7-4e6b-8308-1b1258c4f3dd\" style=\"height: 400px;\"></div>\n",
       "\n",
       "<script type=\"text/javascript\">\n",
       "\n",
       "    var nodes = [{\"id\": 26, \"label\": \"Jim\", \"group\": \"Person\", \"title\": \"Node('Person', name='Jim')\"}, {\"id\": 32, \"label\": \"Billy\", \"group\": \"Person\", \"title\": \"Node('Person', name='Billy')\"}, {\"id\": 31, \"label\": \"Mike\", \"group\": \"Person\", \"title\": \"Node('Person', name='Mike')\"}, {\"id\": 30, \"label\": \"Bob\", \"group\": \"Person\", \"title\": \"Node('Person', name='Bob')\"}, {\"id\": 28, \"label\": \"Sally\", \"group\": \"Person\", \"title\": \"Node('Person', name='Sally')\"}, {\"id\": 27, \"label\": \"Anna\", \"group\": \"Person\", \"title\": \"Node('Person', name='Anna')\"}, {\"id\": 29, \"label\": \"Joe\", \"group\": \"Person\", \"title\": \"Node('Person', name='Joe')\"}];\n",
       "    var edges = [{\"from\": 26, \"to\": 32, \"label\": \"KNOWS\"}, {\"from\": 26, \"to\": 31, \"label\": \"KNOWS\"}, {\"from\": 30, \"to\": 28, \"label\": \"KNOWS\"}, {\"from\": 27, \"to\": 31, \"label\": \"KNOWS\"}, {\"from\": 27, \"to\": 26, \"label\": \"KNOWS\"}, {\"from\": 28, \"to\": 27, \"label\": \"KNOWS\"}, {\"from\": 29, \"to\": 30, \"label\": \"KNOWS\"}, {\"from\": 29, \"to\": 28, \"label\": \"KNOWS\"}];\n",
       "\n",
       "    var container = document.getElementById(\"27486aa8-37f7-4e6b-8308-1b1258c4f3dd\");\n",
       "\n",
       "    var data = {\n",
       "        nodes: nodes,\n",
       "        edges: edges\n",
       "    };\n",
       "\n",
       "    var options = {\n",
       "    nodes: {\n",
       "        shape: 'dot',\n",
       "        size: 25,\n",
       "        font: {\n",
       "            size: 14\n",
       "        }\n",
       "    },\n",
       "    edges: {\n",
       "        font: {\n",
       "            size: 14,\n",
       "            align: 'middle'\n",
       "        },\n",
       "        color: 'gray',\n",
       "        arrows: {\n",
       "            to: {\n",
       "                enabled: true,\n",
       "                scaleFactor: 0.5\n",
       "            }\n",
       "        },\n",
       "        smooth: {\n",
       "            enabled: false\n",
       "        }\n",
       "    },\n",
       "    physics: {\n",
       "        enabled: true\n",
       "        }\n",
       "    };\n",
       "\n",
       "    var network = new vis.Network(container, data, options);\n",
       "\n",
       "</script>\n"
      ],
      "text/plain": [
       "<IPython.core.display.HTML object>"
      ]
     },
     "execution_count": 5,
     "metadata": {},
     "output_type": "execute_result"
    }
   ],
   "source": [
    "import neo4jupyter\n",
    "neo4jupyter.init_notebook_mode()\n",
    "\n",
    "from py2neo import Graph\n",
    "g = Graph(url,auth=(user, password))\n",
    "   \n",
    "neo4jupyter.draw(g, options = {\"Person\": \"name\"} )"
   ]
  },
  {
   "cell_type": "markdown",
   "metadata": {},
   "source": [
    "### Queries"
   ]
  },
  {
   "cell_type": "code",
   "execution_count": 6,
   "metadata": {},
   "outputs": [
    {
     "name": "stdout",
     "output_type": "stream",
     "text": [
      "Anna\n"
     ]
    }
   ],
   "source": [
    "# Friends of a friend\n",
    "\n",
    "foaf_query = '''\n",
    "MATCH (person:Person)-[:KNOWS]-(friend)-[:KNOWS]-(foaf) \n",
    "WHERE person.name = $name\n",
    "  AND NOT (person)-[:KNOWS]-(foaf)\n",
    "RETURN foaf.name AS name\n",
    "'''\n",
    "\n",
    "results = session.run(foaf_query, parameters={\"name\": \"Joe\"})\n",
    "for record in results:\n",
    "    print(record[\"name\"])"
   ]
  },
  {
   "cell_type": "code",
   "execution_count": 7,
   "metadata": {},
   "outputs": [
    {
     "name": "stdout",
     "output_type": "stream",
     "text": [
      "Anna\n"
     ]
    }
   ],
   "source": [
    "# Common friends\n",
    "\n",
    "common_friends_query = \"\"\"\n",
    "MATCH (user:Person)-[:KNOWS]-(friend)-[:KNOWS]-(foaf:Person)\n",
    "WHERE user.name = $user AND foaf.name = $foaf\n",
    "RETURN friend.name AS friend\n",
    "\"\"\"\n",
    "\n",
    "results = session.run(common_friends_query, parameters={\"user\": \"Jim\", \"foaf\": \"Mike\"})\n",
    "for record in results:\n",
    "    print(record[\"friend\"])\n"
   ]
  },
  {
   "cell_type": "code",
   "execution_count": 8,
   "metadata": {},
   "outputs": [
    {
     "name": "stdout",
     "output_type": "stream",
     "text": [
      "<Path start=<Node id=29 labels=frozenset({'Person'}) properties={'name': 'Joe'}> end=<Node id=32 labels=frozenset({'Person'}) properties={'name': 'Billy'}> size=4>\n"
     ]
    }
   ],
   "source": [
    "# Connecting paths\n",
    "connecting_paths_query = \"\"\"\n",
    "MATCH path = shortestPath((p1:Person)-[:KNOWS*..6]-(p2:Person))\n",
    "WHERE p1.name = $name1 AND p2.name = $name2\n",
    "RETURN path\n",
    "\"\"\"\n",
    "\n",
    "results = session.run(connecting_paths_query, parameters={\"name1\": \"Joe\", \"name2\": \"Billy\"})\n",
    "for record in results:\n",
    "    print (record[\"path\"])\n",
    "\n",
    "session.close()"
   ]
  },
  {
   "cell_type": "code",
   "execution_count": null,
   "metadata": {},
   "outputs": [],
   "source": []
  }
 ],
 "metadata": {
  "kernelspec": {
   "display_name": "Python 3 (ipykernel)",
   "language": "python",
   "name": "python3"
  },
  "language_info": {
   "codemirror_mode": {
    "name": "ipython",
    "version": 3
   },
   "file_extension": ".py",
   "mimetype": "text/x-python",
   "name": "python",
   "nbconvert_exporter": "python",
   "pygments_lexer": "ipython3",
   "version": "3.9.12"
  }
 },
 "nbformat": 4,
 "nbformat_minor": 2
}
