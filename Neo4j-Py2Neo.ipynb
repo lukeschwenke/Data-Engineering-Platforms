{
 "cells": [
  {
   "cell_type": "markdown",
   "metadata": {},
   "source": [
    "# Neo4J - Py2Neo\n",
    "\n",
    "Dependencies:\n",
    "\n",
    "`pip install neo4jupyter` \n",
    "\n",
    "`pip install py2neo` "
   ]
  },
  {
   "cell_type": "code",
   "execution_count": 1,
   "metadata": {},
   "outputs": [],
   "source": [
    "from py2neo import Graph\n",
    "from py2neo import Node\n",
    "from py2neo import Relationship\n",
    "from py2neo import Graph as PGraph"
   ]
  },
  {
   "cell_type": "code",
   "execution_count": 2,
   "metadata": {},
   "outputs": [],
   "source": [
    "g = Graph(\"bolt://localhost:7687\", auth=(\"neo4j\", \"neo4j!\"))"
   ]
  },
  {
   "cell_type": "code",
   "execution_count": 3,
   "metadata": {},
   "outputs": [],
   "source": [
    "# delete all the data\n",
    "g.delete_all()"
   ]
  },
  {
   "cell_type": "markdown",
   "metadata": {},
   "source": [
    "### Nodes  \n",
    "\n",
    "Create nodes with the Node class. The first argument is the node's label. The remaining arguments are an arbitrary amount of node properties or key-value pairs"
   ]
  },
  {
   "cell_type": "code",
   "execution_count": 4,
   "metadata": {},
   "outputs": [],
   "source": [
    "nicole = Node(\"Person\", name=\"Nicole\", age=24)\n",
    "drew = Node(\"Person\", name=\"Drew\", age=20)\n",
    "\n",
    "mtdew = Node(\"Drink\", name=\"Mountain Dew\", calories=9000)\n",
    "cokezero = Node(\"Drink\", name=\"Coke Zero\", calories=0)\n",
    "\n",
    "coke = Node(\"Manufacturer\", name=\"Coca Cola\")\n",
    "pepsi = Node(\"Manufacturer\", name=\"Pepsi\")\n",
    "\n",
    "g.create(nicole | drew | mtdew | cokezero | coke | pepsi)"
   ]
  },
  {
   "cell_type": "markdown",
   "metadata": {},
   "source": [
    "### Relationships \n",
    "\n",
    "Create relationships between nodes with the Relationship class."
   ]
  },
  {
   "cell_type": "code",
   "execution_count": 5,
   "metadata": {},
   "outputs": [],
   "source": [
    "g.create(Relationship(nicole, \"LIKES\", cokezero))\n",
    "g.create(Relationship(nicole, \"LIKES\", mtdew))\n",
    "g.create(Relationship(drew, \"LIKES\", mtdew))\n",
    "g.create(Relationship(coke, \"MAKES\", cokezero))\n",
    "g.create(Relationship(pepsi, \"MAKES\", mtdew))"
   ]
  },
  {
   "cell_type": "markdown",
   "metadata": {},
   "source": [
    "### Visualize"
   ]
  },
  {
   "cell_type": "code",
   "execution_count": 7,
   "metadata": {},
   "outputs": [
    {
     "data": {
      "application/javascript": [
       "var link = document.createElement(\"link\");\n",
       "\tlink.ref = \"stylesheet\";\n",
       "\tlink.type = \"text/css\";\n",
       "\tlink.href = \"https://cdnjs.cloudflare.com/ajax/libs/vis/4.8.2/vis.css\";\n",
       "\tdocument.head.appendChild(link);\n",
       "require.config({     paths: {         vis: '//cdnjs.cloudflare.com/ajax/libs/vis/4.8.2/vis.min'     } }); require(['vis'], function(vis) {  window.vis = vis; }); "
      ],
      "text/plain": [
       "<IPython.core.display.Javascript object>"
      ]
     },
     "metadata": {},
     "output_type": "display_data"
    },
    {
     "data": {
      "text/html": [
       "<div id=\"cca33cc8-0c47-4430-ac12-3e8f5a5a6e4b\" style=\"height: 400px;\"></div>\n",
       "\n",
       "<script type=\"text/javascript\">\n",
       "\n",
       "    var nodes = [{\"id\": 15, \"label\": \"Coke Zero\", \"group\": \"Drink\", \"title\": \"Node('Drink', calories=0, name='Coke Zero')\"}, {\"id\": 16, \"label\": \"Coca Cola\", \"group\": \"Manufacturer\", \"title\": \"Node('Manufacturer', name='Coca Cola')\"}, {\"id\": 12, \"label\": \"Nicole\", \"group\": \"Person\", \"title\": \"Node('Person', age=24, name='Nicole')\"}, {\"id\": 14, \"label\": \"Mountain Dew\", \"group\": \"Drink\", \"title\": \"Node('Drink', calories=9000, name='Mountain Dew')\"}, {\"id\": 17, \"label\": \"Pepsi\", \"group\": \"Manufacturer\", \"title\": \"Node('Manufacturer', name='Pepsi')\"}, {\"id\": 13, \"label\": \"Drew\", \"group\": \"Person\", \"title\": \"Node('Person', age=20, name='Drew')\"}];\n",
       "    var edges = [{\"from\": 16, \"to\": 15, \"label\": \"MAKES\"}, {\"from\": 12, \"to\": 14, \"label\": \"LIKES\"}, {\"from\": 12, \"to\": 15, \"label\": \"LIKES\"}, {\"from\": 17, \"to\": 14, \"label\": \"MAKES\"}, {\"from\": 13, \"to\": 14, \"label\": \"LIKES\"}];\n",
       "\n",
       "    var container = document.getElementById(\"cca33cc8-0c47-4430-ac12-3e8f5a5a6e4b\");\n",
       "\n",
       "    var data = {\n",
       "        nodes: nodes,\n",
       "        edges: edges\n",
       "    };\n",
       "\n",
       "    var options = {\n",
       "    nodes: {\n",
       "        shape: 'dot',\n",
       "        size: 25,\n",
       "        font: {\n",
       "            size: 14\n",
       "        }\n",
       "    },\n",
       "    edges: {\n",
       "        font: {\n",
       "            size: 14,\n",
       "            align: 'middle'\n",
       "        },\n",
       "        color: 'gray',\n",
       "        arrows: {\n",
       "            to: {\n",
       "                enabled: true,\n",
       "                scaleFactor: 0.5\n",
       "            }\n",
       "        },\n",
       "        smooth: {\n",
       "            enabled: false\n",
       "        }\n",
       "    },\n",
       "    physics: {\n",
       "        enabled: true\n",
       "        }\n",
       "    };\n",
       "\n",
       "    var network = new vis.Network(container, data, options);\n",
       "\n",
       "</script>\n"
      ],
      "text/plain": [
       "<IPython.core.display.HTML object>"
      ]
     },
     "execution_count": 7,
     "metadata": {},
     "output_type": "execute_result"
    }
   ],
   "source": [
    "import neo4jupyter\n",
    "neo4jupyter.init_notebook_mode()\n",
    "   \n",
    "neo4jupyter.draw(g, options = {\"Person\": \"name\", \"Drink\" : \"name\", \"Manufacturer\" : \"name\"} )"
   ]
  },
  {
   "cell_type": "markdown",
   "metadata": {},
   "source": [
    "### Queries\n",
    "\n",
    "Retrieve Cypher query results with Graph.cypher.execute."
   ]
  },
  {
   "cell_type": "code",
   "execution_count": 8,
   "metadata": {},
   "outputs": [
    {
     "name": "stdout",
     "output_type": "stream",
     "text": [
      "'Drew'\t'Mountain Dew'\n",
      "'Nicole'\t'Mountain Dew'\n",
      "'Nicole'\t'Coke Zero'\n"
     ]
    }
   ],
   "source": [
    "query = \"\"\"\n",
    "MATCH (person:Person)-[:LIKES]->(drink:Drink)\n",
    "RETURN person.name AS name, drink.name AS drink\n",
    "\"\"\"\n",
    "\n",
    "data = g.run(query)\n",
    "\n",
    "for d in data:\n",
    "    print(d)"
   ]
  },
  {
   "cell_type": "markdown",
   "metadata": {},
   "source": [
    "### Parameterized Cypher \n",
    "\n",
    "Pass parameters to Cypher queries by passing additional key-value arguments to Graph.cypher.execute. Parameters in Cypher are named and are wrapped in curly braces."
   ]
  },
  {
   "cell_type": "code",
   "execution_count": 9,
   "metadata": {},
   "outputs": [
    {
     "name": "stdout",
     "output_type": "stream",
     "text": [
      "'Nicole'\t4500.0\n"
     ]
    }
   ],
   "source": [
    "query = \"\"\"\n",
    "MATCH (p:Person)-[:LIKES]->(drink:Drink)\n",
    "WHERE p.name = $name\n",
    "RETURN p.name AS name, AVG(drink.calories) AS avg_calories\n",
    "\"\"\"\n",
    "data = g.run(query, name=\"Nicole\")\n",
    "\n",
    "for d in data:\n",
    "    print(d)\n"
   ]
  },
  {
   "cell_type": "code",
   "execution_count": null,
   "metadata": {},
   "outputs": [],
   "source": []
  }
 ],
 "metadata": {
  "kernelspec": {
   "display_name": "Python 3",
   "language": "python",
   "name": "python3"
  },
  "language_info": {
   "codemirror_mode": {
    "name": "ipython",
    "version": 3
   },
   "file_extension": ".py",
   "mimetype": "text/x-python",
   "name": "python",
   "nbconvert_exporter": "python",
   "pygments_lexer": "ipython3",
   "version": "3.8.5"
  }
 },
 "nbformat": 4,
 "nbformat_minor": 1
}
